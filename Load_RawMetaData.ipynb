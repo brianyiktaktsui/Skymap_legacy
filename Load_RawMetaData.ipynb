{
 "cells": [
  {
   "cell_type": "code",
   "execution_count": 1,
   "metadata": {
    "collapsed": true
   },
   "outputs": [],
   "source": [
    "import pandas as pd"
   ]
  },
  {
   "cell_type": "code",
   "execution_count": 2,
   "metadata": {
    "collapsed": true
   },
   "outputs": [],
   "source": [
    "sampleRawAnnotS_Dir='./meta_data/allSRS.pickle'\n",
    "experimentRawAnnotS_Dir='./meta_data/allSRX.pickle'"
   ]
  },
  {
   "cell_type": "code",
   "execution_count": 3,
   "metadata": {
    "collapsed": true
   },
   "outputs": [],
   "source": [
    "sampleRawAnnotS=pd.read_pickle(sampleRawAnnotS_Dir)"
   ]
  },
  {
   "cell_type": "code",
   "execution_count": 4,
   "metadata": {
    "collapsed": true
   },
   "outputs": [],
   "source": [
    "experimentRawAnnotS=pd.read_pickle(experimentRawAnnotS_Dir)"
   ]
  },
  {
   "cell_type": "markdown",
   "metadata": {},
   "source": [
    "### experimental annotation raw texts"
   ]
  },
  {
   "cell_type": "code",
   "execution_count": 5,
   "metadata": {
    "collapsed": false,
    "scrolled": true
   },
   "outputs": [
    {
     "data": {
      "text/plain": [
       "SRX467157   TITLE                 Whole genome shotgun sequencing of Salmonella ...\n",
       "            DESIGN_DESCRIPTION    MiSeq deep shotgun sequencing of cultured isol...\n",
       "            LIBRARY_STRATEGY                                                    WGS\n",
       "            LIBRARY_SOURCE                                                  GENOMIC\n",
       "            LIBRARY_SELECTION                                                RANDOM\n",
       "SRX652634   TITLE                 Whole genome shotgun sequencing of Salmonella ...\n",
       "            DESIGN_DESCRIPTION    MiSeq deep shotgun sequencing of cultured isol...\n",
       "            LIBRARY_STRATEGY                                                    WGS\n",
       "            LIBRARY_SOURCE                                                  GENOMIC\n",
       "            LIBRARY_SELECTION                                                RANDOM\n",
       "SRX1134617  TITLE                      Leaf transcriptome of Camellia oleifera JG03\n",
       "            DESIGN_DESCRIPTION    Leaf samples were collected from flowering wil...\n",
       "            LIBRARY_STRATEGY                                                RNA-Seq\n",
       "            LIBRARY_SOURCE                                           TRANSCRIPTOMIC\n",
       "            LIBRARY_SELECTION                                                   PCR\n",
       "SRX483968   DESIGN_DESCRIPTION                    UMIGS-GRC General Pair End Design\n",
       "            LIBRARY_STRATEGY                                                    WGS\n",
       "            LIBRARY_SOURCE                                                  GENOMIC\n",
       "            LIBRARY_SELECTION                                                RANDOM\n",
       "SRX869460   TITLE                 Whole genome shotgun sequencing of Campylobact...\n",
       "dtype: object"
      ]
     },
     "execution_count": 5,
     "metadata": {},
     "output_type": "execute_result"
    }
   ],
   "source": [
    "experimentRawAnnotS.head(n=20)"
   ]
  },
  {
   "cell_type": "code",
   "execution_count": 6,
   "metadata": {
    "collapsed": false
   },
   "outputs": [
    {
     "data": {
      "text/plain": [
       "(19863886,)"
      ]
     },
     "execution_count": 6,
     "metadata": {},
     "output_type": "execute_result"
    }
   ],
   "source": [
    "experimentRawAnnotS.shape"
   ]
  },
  {
   "cell_type": "code",
   "execution_count": 7,
   "metadata": {
    "collapsed": false
   },
   "outputs": [
    {
     "data": {
      "text/plain": [
       "3302599"
      ]
     },
     "execution_count": 7,
     "metadata": {},
     "output_type": "execute_result"
    }
   ],
   "source": [
    "experimentRawAnnotS.index.get_level_values(0).nunique()"
   ]
  },
  {
   "cell_type": "markdown",
   "metadata": {},
   "source": [
    "### sample annotation raw texts"
   ]
  },
  {
   "cell_type": "code",
   "execution_count": 8,
   "metadata": {
    "collapsed": false,
    "scrolled": true
   },
   "outputs": [
    {
     "data": {
      "text/plain": [
       "ERS069057  TITLE                                   Streptococcus pneumoniae\n",
       "           SCIENTIFIC_NAME                         Streptococcus pneumoniae\n",
       "           SUBMITTER_ID             SN20648-sc-2011-11-03T19:59:41Z-1101437\n",
       "           Strain                                                          \n",
       "           Sample Description                                              \n",
       "           ArrayExpress-Sex                                  not applicable\n",
       "           ArrayExpress-Species                    Streptococcus pneumoniae\n",
       "SRS554825  TITLE                   Pathogen sample from Salmonella enterica\n",
       "           SCIENTIFIC_NAME              Salmonella enterica subsp. enterica\n",
       "           SUBMITTER_ID                                      MDH-2013-00074\n",
       "           strain                                            MDH-2013-00074\n",
       "           Outbreak                                             0904MLJJP-1\n",
       "           host_disease                                             missing\n",
       "           lat_lon                                                  missing\n",
       "           Subspecies                                              enterica\n",
       "           collection_date                                      16-Mar-2009\n",
       "           geo_loc_name                                              USA:MN\n",
       "           isolation_source                                    bovine feces\n",
       "           specific_host                                         Bos taurus\n",
       "           serovar                                                  Newport\n",
       "dtype: object"
      ]
     },
     "execution_count": 8,
     "metadata": {},
     "output_type": "execute_result"
    }
   ],
   "source": [
    "sampleRawAnnotS.head(n=20)"
   ]
  },
  {
   "cell_type": "code",
   "execution_count": 9,
   "metadata": {
    "collapsed": false
   },
   "outputs": [
    {
     "data": {
      "text/plain": [
       "(43907007,)"
      ]
     },
     "execution_count": 9,
     "metadata": {},
     "output_type": "execute_result"
    }
   ],
   "source": [
    "sampleRawAnnotS.shape"
   ]
  },
  {
   "cell_type": "code",
   "execution_count": 10,
   "metadata": {
    "collapsed": false
   },
   "outputs": [
    {
     "data": {
      "text/plain": [
       "2921722"
      ]
     },
     "execution_count": 10,
     "metadata": {},
     "output_type": "execute_result"
    }
   ],
   "source": [
    "sampleRawAnnotS.index.get_level_values(0).nunique()"
   ]
  },
  {
   "cell_type": "code",
   "execution_count": 11,
   "metadata": {
    "collapsed": false
   },
   "outputs": [
    {
     "data": {
      "text/plain": [
       "array(['RNA-Seq of human cell lines:PC3',\n",
       "       'Integrated Cell Expression Toolkit:Based on SmartSeq2 PCR amplification with template switch oligo followed by Tn5 tagmentation prior to library finishing',\n",
       "       'RNA-Seq', 'TRANSCRIPTOMIC', 'cDNA'], dtype=object)"
      ]
     },
     "execution_count": 11,
     "metadata": {},
     "output_type": "execute_result"
    }
   ],
   "source": [
    "experimentRawAnnotS.loc['SRX1493442'].values"
   ]
  },
  {
   "cell_type": "code",
   "execution_count": null,
   "metadata": {
    "collapsed": true
   },
   "outputs": [],
   "source": []
  }
 ],
 "metadata": {
  "kernelspec": {
   "display_name": "Python 2",
   "language": "python",
   "name": "python2"
  },
  "language_info": {
   "codemirror_mode": {
    "name": "ipython",
    "version": 2
   },
   "file_extension": ".py",
   "mimetype": "text/x-python",
   "name": "python",
   "nbconvert_exporter": "python",
   "pygments_lexer": "ipython2",
   "version": "2.7.13"
  }
 },
 "nbformat": 4,
 "nbformat_minor": 0
}
