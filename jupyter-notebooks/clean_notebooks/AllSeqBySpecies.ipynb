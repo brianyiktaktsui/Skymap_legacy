{
 "cells": [
  {
   "cell_type": "code",
   "execution_count": 2,
   "metadata": {
    "collapsed": true
   },
   "outputs": [],
   "source": [
    "%matplotlib inline\n",
    "import pandas as pd\n",
    "import numpy as np\n",
    "import matplotlib.pyplot as plt\n",
    "import seaborn as sns\n",
    "sns.set_style('whitegrid')"
   ]
  },
  {
   "cell_type": "code",
   "execution_count": 3,
   "metadata": {
    "collapsed": true
   },
   "outputs": [],
   "source": [
    "sra_dump_pickle_dir='/cellar/users/btsui/Data/SRA/DUMP/sra_dump.pickle'\n"
   ]
  },
  {
   "cell_type": "code",
   "execution_count": 4,
   "metadata": {
    "collapsed": true
   },
   "outputs": [],
   "source": [
    "sra_dump_df=pd.read_pickle(sra_dump_pickle_dir)"
   ]
  },
  {
   "cell_type": "code",
   "execution_count": 5,
   "metadata": {
    "collapsed": true
   },
   "outputs": [],
   "source": [
    "\"\"\"\n",
    "ERP013950: some guy deposited tons of synthetic reads and annotate them as WGS\n",
    "\"\"\"\n",
    "blackListSrps=['ERP013950']"
   ]
  },
  {
   "cell_type": "code",
   "execution_count": 6,
   "metadata": {
    "collapsed": true
   },
   "outputs": [],
   "source": [
    "publicDf=sra_dump_df[(sra_dump_df.proj_accession_Visibility=='public')&(~sra_dump_df.Study.isin(blackListSrps))]"
   ]
  },
  {
   "cell_type": "code",
   "execution_count": 7,
   "metadata": {
    "collapsed": true
   },
   "outputs": [],
   "source": [
    "VC=publicDf.groupby(['ScientificName','LibraryStrategy']).size()"
   ]
  },
  {
   "cell_type": "code",
   "execution_count": 8,
   "metadata": {
    "collapsed": true
   },
   "outputs": [],
   "source": [
    "VC=VC.sort_values(ascending=False)"
   ]
  },
  {
   "cell_type": "code",
   "execution_count": 9,
   "metadata": {
    "collapsed": true
   },
   "outputs": [],
   "source": [
    "countBySrategy=VC.groupby('LibraryStrategy').sum()\n",
    "ignore_strategy_list=(countBySrategy.index[countBySrategy<5000]\n",
    ").tolist()\n",
    "countBySpecie=VC.groupby('ScientificName').sum()\n",
    "ignore_specie_list=countBySpecie.index[countBySpecie<20000].tolist()"
   ]
  },
  {
   "cell_type": "code",
   "execution_count": 10,
   "metadata": {
    "collapsed": true
   },
   "outputs": [],
   "source": [
    "m2=~VC.index.get_level_values('LibraryStrategy').isin(['CLONE','POOLCLONE','SELEX','OTHER','RAD-seq','RAD-Seq']+ignore_strategy_list)\n",
    "m3=~VC.index.get_level_values('ScientificName').isin([u'synthetic_construct']+ignore_specie_list)\n",
    "subVC=VC[m2&m3].reorder_levels(['LibraryStrategy','ScientificName']).sort_index()#.unstack()"
   ]
  },
  {
   "cell_type": "code",
   "execution_count": 11,
   "metadata": {
    "collapsed": true
   },
   "outputs": [],
   "source": [
    "library_order=subVC.groupby('LibraryStrategy').sum().sort_values(ascending=False).index.astype(np.str)\n",
    "\n",
    "scientific_order=subVC.groupby('ScientificName').sum().sort_values(ascending=False).index.astype(np.str)"
   ]
  },
  {
   "cell_type": "code",
   "execution_count": 12,
   "metadata": {
    "collapsed": true
   },
   "outputs": [],
   "source": [
    "yLabel='# of sequencing runs'"
   ]
  },
  {
   "cell_type": "code",
   "execution_count": 13,
   "metadata": {
    "collapsed": true
   },
   "outputs": [],
   "source": [
    "### stacked bar "
   ]
  },
  {
   "cell_type": "code",
   "execution_count": 14,
   "metadata": {
    "collapsed": true
   },
   "outputs": [],
   "source": [
    "sortedS=subVC.sort_values(ascending=False).groupby(level='LibraryStrategy').head(15)"
   ]
  },
  {
   "cell_type": "code",
   "execution_count": 15,
   "metadata": {
    "collapsed": true
   },
   "outputs": [],
   "source": [
    "unstackDf=sortedS.unstack()"
   ]
  },
  {
   "cell_type": "code",
   "execution_count": 16,
   "metadata": {
    "collapsed": true
   },
   "outputs": [],
   "source": [
    "inPlotDf2=unstackDf.copy()"
   ]
  },
  {
   "cell_type": "code",
   "execution_count": 17,
   "metadata": {
    "collapsed": true
   },
   "outputs": [],
   "source": [
    "inPlotDf2.index=inPlotDf2.index.astype(np.str)\n",
    "inPlotDf2.columns=inPlotDf2.columns.astype(np.str)"
   ]
  },
  {
   "cell_type": "code",
   "execution_count": 18,
   "metadata": {
    "collapsed": true
   },
   "outputs": [],
   "source": [
    "tmpS2=inPlotDf2.columns.to_series()\n",
    "tmpS2[tmpS2.str.contains('metagenome')]='metagenome'\n",
    "plants=['Arabidopsis_thaliana','Oryza_sativa',u'Hordeum_vulgare_subsp._vulgare']\n",
    "tmpS2[tmpS2.str.contains(\"|\".join(plants))]='Plants'\n",
    "prokaryotes=[u'Mycobacterium_tuberculosis',u'Plasmodium_falciparum',u'Saccharomyces_cerevisiae','Salmonella_enterica',\n",
    "            u'Salmonella_enterica_subsp._enterica','Staphylococcus_aureus',u'Escherichia_coli',u'Streptococcus_pneumoniae']\n",
    "tmpS2[tmpS2.str.contains(\"|\".join(prokaryotes))]='Prokaryotes: '\n",
    "inPlotDf2.columns=tmpS2.values\n",
    "\n"
   ]
  },
  {
   "cell_type": "code",
   "execution_count": 19,
   "metadata": {
    "collapsed": true
   },
   "outputs": [],
   "source": [
    "tmpS3=inPlotDf2.index.to_series()\n",
    "tmpS3[tmpS3.str.contains('rna-seq',case=False)]='RNA-seq'\n",
    "tmpS3[tmpS3.str.contains('ATAC|DNase|chip',case=False)]='Chip / ATAC / DNase\\n-seq'\n",
    "tmpS3[tmpS3.str.contains('^WGA|WGS$',case=False)]='WGS'\n",
    "\n",
    "\n",
    "\n",
    "inPlotDf2.index=tmpS3.values"
   ]
  },
  {
   "cell_type": "code",
   "execution_count": 20,
   "metadata": {
    "collapsed": true
   },
   "outputs": [],
   "source": [
    "inPlotDf3=inPlotDf2.groupby(level=0,axis=1).sum().groupby(level=0,axis=0).sum()"
   ]
  },
  {
   "cell_type": "code",
   "execution_count": 21,
   "metadata": {
    "collapsed": true
   },
   "outputs": [],
   "source": [
    "x_order3=inPlotDf3.sum(axis=1).sort_values(ascending=False).index\n",
    "y_order3=inPlotDf3.sum(axis=0).sort_values(ascending=False).index"
   ]
  },
  {
   "cell_type": "markdown",
   "metadata": {},
   "source": [
    "# data break down by organism and omic layer"
   ]
  },
  {
   "cell_type": "code",
   "execution_count": 34,
   "metadata": {
    "scrolled": false
   },
   "outputs": [
    {
     "data": {
      "image/png": "[encoded data removed]",
      "text/plain": [
       "<matplotlib.figure.Figure at 0x7feea26d4cd0>"
      ]
     },
     "metadata": {},
     "output_type": "display_data"
    }
   ],
   "source": [
    "ax=inPlotDf3.loc[x_order3,y_order3].iloc[:-3].plot.bar(stacked=True,colormap='Paired')\n",
    "ax.set_ylabel('# of sequencing runs')\n",
    "ax.legend(bbox_to_anchor=(1.1,1))\n",
    "ax.figure.tight_layout()\n",
    "ax.figure.savefig('./Figures/sra_data_availability.png',dpi=300,bbox_to_anchor='tight')"
   ]
  },
  {
   "cell_type": "code",
   "execution_count": 26,
   "metadata": {
    "collapsed": true
   },
   "outputs": [],
   "source": [
    "#fig,ax=plt.subplots()\n",
    "#epigenome, only the cpg sites. "
   ]
  },
  {
   "cell_type": "code",
   "execution_count": 27,
   "metadata": {
    "collapsed": true
   },
   "outputs": [],
   "source": [
    "myDate='proj_accession_Received'\n",
    "inPlotDf2=publicDf#sra_dump_df[sra_dump_df['proj_accession_Visibility']=='public']\n",
    "#diffS=(inPlotDf2[myDate].astype(np.datetime64)-np.datetime64('2008','Y'))\n",
    "a=inPlotDf2[myDate].astype(np.datetime64)\n",
    "perYear=a.map(lambda s:s.year)\n"
   ]
  },
  {
   "cell_type": "code",
   "execution_count": 28,
   "metadata": {
    "collapsed": true
   },
   "outputs": [],
   "source": [
    "validYear=perYear[perYear>=2008].astype(np.int)"
   ]
  },
  {
   "cell_type": "code",
   "execution_count": 29,
   "metadata": {
    "collapsed": true
   },
   "outputs": [],
   "source": [
    "countS=validYear.value_counts()\n",
    "countS=countS.sort_index()"
   ]
  },
  {
   "cell_type": "code",
   "execution_count": 30,
   "metadata": {},
   "outputs": [
    {
     "data": {
      "image/png": "[encoded data removed]",
      "text/plain": [
       "<matplotlib.figure.Figure at 0x7feea23cb090>"
      ]
     },
     "metadata": {},
     "output_type": "display_data"
    }
   ],
   "source": [
    "cumulativeS=countS.cumsum()\n",
    "adjustedS=cumulativeS/10**6\n",
    "ax=adjustedS.plot()\n",
    "ax.set_ylabel('Sequencing runs cumulated (Millions)')\n",
    "ax.set_xticklabels(cumulativeS.index.astype(np.str), rotation='vertical')\n",
    "\n",
    "ax.set_yscale('linear')\n",
    "ax.set_xlabel('Year')\n",
    "ax.figure.savefig('./Figures/sra_data_availability_over_time.png',dpi=300)"
   ]
  },
  {
   "cell_type": "code",
   "execution_count": 134,
   "metadata": {
    "collapsed": true
   },
   "outputs": [],
   "source": [
    "#one_peta_bytes=10**16"
   ]
  },
  {
   "cell_type": "code",
   "execution_count": 135,
   "metadata": {},
   "outputs": [
    {
     "name": "stdout",
     "output_type": "stream",
     "text": [
      "number of peta basess of data:  1.39874500912\n"
     ]
    }
   ],
   "source": [
    "print 'number of peta basess of data: ', sra_dump_df['Bases'].sum()/one_peta_bytes"
   ]
  },
  {
   "cell_type": "markdown",
   "metadata": {},
   "source": [
    "### scratches"
   ]
  },
  {
   "cell_type": "code",
   "execution_count": 151,
   "metadata": {
    "collapsed": true
   },
   "outputs": [],
   "source": [
    "millionBases=sra_dump_df['Bases'].sum()/(10**6)"
   ]
  },
  {
   "cell_type": "code",
   "execution_count": 168,
   "metadata": {},
   "outputs": [
    {
     "data": {
      "text/plain": [
       "3.75"
      ]
     },
     "execution_count": 168,
     "metadata": {},
     "output_type": "execute_result"
    }
   ],
   "source": [
    "75*cost_per_mb"
   ]
  },
  {
   "cell_type": "code",
   "execution_count": 169,
   "metadata": {},
   "outputs": [
    {
     "data": {
      "text/plain": [
       "8.8447085542647343"
      ]
     },
     "execution_count": 169,
     "metadata": {},
     "output_type": "execute_result"
    }
   ],
   "source": [
    "cost_per_mb=0.05\n",
    "#1 cent per a million \n",
    "np.log10(millionBases*cost_per_mb)"
   ]
  },
  {
   "cell_type": "code",
   "execution_count": 170,
   "metadata": {},
   "outputs": [
    {
     "data": {
      "text/plain": [
       "699.3725045620188"
      ]
     },
     "execution_count": 170,
     "metadata": {},
     "output_type": "execute_result"
    }
   ],
   "source": [
    "millionBases*cost_per_mb/(10**6)"
   ]
  },
  {
   "cell_type": "code",
   "execution_count": 176,
   "metadata": {
    "collapsed": true
   },
   "outputs": [],
   "source": [
    "sra_dump_df['Run']=sra_dump_df.index"
   ]
  },
  {
   "cell_type": "code",
   "execution_count": 179,
   "metadata": {
    "collapsed": true
   },
   "outputs": [],
   "source": [
    "indexedDf=sra_dump_df.set_index(['Study','Sample','Experiment','Run'])"
   ]
  },
  {
   "cell_type": "code",
   "execution_count": 183,
   "metadata": {
    "collapsed": true
   },
   "outputs": [],
   "source": [
    "#indexedDf.head()"
   ]
  },
  {
   "cell_type": "code",
   "execution_count": 184,
   "metadata": {
    "collapsed": true
   },
   "outputs": [],
   "source": [
    "#indexedDf[['ScientificName','LibraryStrategy','LibraryLayout']].iloc[100:]"
   ]
  },
  {
   "cell_type": "code",
   "execution_count": null,
   "metadata": {
    "collapsed": true
   },
   "outputs": [],
   "source": []
  },
  {
   "cell_type": "code",
   "execution_count": 8,
   "metadata": {
    "collapsed": true
   },
   "outputs": [],
   "source": [
    "## so as the meta data \n",
    "tmpDf3=publicDf[(publicDf.ScientificName=='Homo_sapiens')&(~publicDf.Study.isin(['ERP013950']))]"
   ]
  },
  {
   "cell_type": "code",
   "execution_count": 15,
   "metadata": {
    "collapsed": true
   },
   "outputs": [],
   "source": [
    "n_bases=tmpDf3['Bases'].sum()"
   ]
  },
  {
   "cell_type": "code",
   "execution_count": 21,
   "metadata": {
    "collapsed": true
   },
   "outputs": [],
   "source": [
    "nBytes=n_bases/2"
   ]
  },
  {
   "cell_type": "code",
   "execution_count": 23,
   "metadata": {
    "collapsed": true
   },
   "outputs": [],
   "source": [
    "nGb=(nBytes/10**9)*2"
   ]
  },
  {
   "cell_type": "code",
   "execution_count": 24,
   "metadata": {},
   "outputs": [
    {
     "data": {
      "text/plain": [
       "1834995.522362079"
      ]
     },
     "execution_count": 24,
     "metadata": {},
     "output_type": "execute_result"
    }
   ],
   "source": [
    "nGb"
   ]
  },
  {
   "cell_type": "code",
   "execution_count": null,
   "metadata": {
    "collapsed": true
   },
   "outputs": [],
   "source": []
  }
 ],
 "metadata": {
  "kernelspec": {
   "display_name": "anaconda",
   "language": "python",
   "name": "anaconda"
  },
  "language_info": {
   "codemirror_mode": {
    "name": "ipython",
    "version": 2
   },
   "file_extension": ".py",
   "mimetype": "text/x-python",
   "name": "python",
   "nbconvert_exporter": "python",
   "pygments_lexer": "ipython2",
   "version": "2.7.14"
  }
 },
 "nbformat": 4,
 "nbformat_minor": 1
}
